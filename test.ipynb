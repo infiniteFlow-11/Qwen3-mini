{
 "cells": [
  {
   "cell_type": "code",
   "execution_count": 1,
   "id": "d8a30ae6",
   "metadata": {},
   "outputs": [],
   "source": [
    "pos_sorted = [12, 12, 6, 6, 1]\n",
    "target = 12\n",
    "for car in pos_sorted:\n",
    "    if car >= target:\n",
    "        car = -1"
   ]
  },
  {
   "cell_type": "code",
   "execution_count": 2,
   "id": "ae7f299b",
   "metadata": {},
   "outputs": [
    {
     "data": {
      "text/plain": [
       "[12, 12, 6, 6, 1]"
      ]
     },
     "execution_count": 2,
     "metadata": {},
     "output_type": "execute_result"
    }
   ],
   "source": [
    "pos_sorted"
   ]
  },
  {
   "cell_type": "code",
   "execution_count": 3,
   "id": "39dbb67e",
   "metadata": {},
   "outputs": [
    {
     "name": "stdout",
     "output_type": "stream",
     "text": [
      "12\n",
      "12\n"
     ]
    }
   ],
   "source": [
    "for car in pos_sorted:\n",
    "    if car >= target:\n",
    "        print(car)"
   ]
  }
 ],
 "metadata": {
  "kernelspec": {
   "display_name": "Python 3",
   "language": "python",
   "name": "python3"
  },
  "language_info": {
   "codemirror_mode": {
    "name": "ipython",
    "version": 3
   },
   "file_extension": ".py",
   "mimetype": "text/x-python",
   "name": "python",
   "nbconvert_exporter": "python",
   "pygments_lexer": "ipython3",
   "version": "3.12.6"
  }
 },
 "nbformat": 4,
 "nbformat_minor": 5
}
